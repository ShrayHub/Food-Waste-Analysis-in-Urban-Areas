{
  "metadata": {
    "kernelspec": {
      "language": "python",
      "display_name": "Python 3",
      "name": "python3"
    },
    "language_info": {
      "name": "python",
      "version": "3.10.13",
      "mimetype": "text/x-python",
      "codemirror_mode": {
        "name": "ipython",
        "version": 3
      },
      "pygments_lexer": "ipython3",
      "nbconvert_exporter": "python",
      "file_extension": ".py"
    },
    "kaggle": {
      "accelerator": "none",
      "dataSources": [
        {
          "sourceId": 6239375,
          "sourceType": "datasetVersion",
          "datasetId": 3584666
        }
      ],
      "dockerImageVersionId": 30698,
      "isInternetEnabled": true,
      "language": "python",
      "sourceType": "notebook",
      "isGpuEnabled": false
    },
    "colab": {
      "provenance": []
    }
  },
  "nbformat_minor": 0,
  "nbformat": 4,
  "cells": [
    {
      "cell_type": "code",
      "source": [
        "#imports\n",
        "import pandas as pd\n",
        "import numpy as np\n",
        "import matplotlib.pyplot as plt\n",
        "%matplotlib inline\n",
        "import seaborn as sns\n",
        "import matplotlib.gridspec as gs\n",
        "\n",
        "import warnings\n",
        "warnings.filterwarnings('ignore')"
      ],
      "metadata": {
        "execution": {
          "iopub.status.busy": "2024-06-03T12:54:18.84248Z",
          "iopub.execute_input": "2024-06-03T12:54:18.843073Z",
          "iopub.status.idle": "2024-06-03T12:54:19.114127Z",
          "shell.execute_reply.started": "2024-06-03T12:54:18.843039Z",
          "shell.execute_reply": "2024-06-03T12:54:19.112476Z"
        },
        "trusted": true,
        "id": "7JrClB11LanL"
      },
      "execution_count": null,
      "outputs": []
    },
    {
      "cell_type": "markdown",
      "source": [
        "<p style=\"padding:10px;background-color:#B4F8C8;margin:0;color:#000C66;font-family:sans serif;font-size:240%;text-align:center; overflow:hidden; font-weight:500; font-style:italic\"><a id='1'></a>1. Exploring the data</p>\n",
        "\n",
        "<p style=\"text-align:center; \"></p>"
      ],
      "metadata": {
        "id": "Sbvhi8lqLanP"
      }
    },
    {
      "cell_type": "code",
      "source": [
        "df = pd.read_csv('/kaggle/input/food-waste/Food Waste data and research - by country.csv')\n",
        "df.info()"
      ],
      "metadata": {
        "execution": {
          "iopub.status.busy": "2024-06-03T12:54:19.116245Z",
          "iopub.execute_input": "2024-06-03T12:54:19.116827Z",
          "iopub.status.idle": "2024-06-03T12:54:19.180966Z",
          "shell.execute_reply.started": "2024-06-03T12:54:19.116758Z",
          "shell.execute_reply": "2024-06-03T12:54:19.179409Z"
        },
        "trusted": true,
        "id": "m36UFvBdLanP"
      },
      "execution_count": null,
      "outputs": []
    },
    {
      "cell_type": "code",
      "source": [
        "df.head()"
      ],
      "metadata": {
        "execution": {
          "iopub.status.busy": "2024-06-03T12:54:19.183974Z",
          "iopub.execute_input": "2024-06-03T12:54:19.184553Z",
          "iopub.status.idle": "2024-06-03T12:54:19.211619Z",
          "shell.execute_reply.started": "2024-06-03T12:54:19.184517Z",
          "shell.execute_reply": "2024-06-03T12:54:19.209964Z"
        },
        "trusted": true,
        "id": "dA5tcMc8LanQ"
      },
      "execution_count": null,
      "outputs": []
    },
    {
      "cell_type": "code",
      "source": [
        "df.isna().sum()"
      ],
      "metadata": {
        "execution": {
          "iopub.status.busy": "2024-06-03T12:54:19.213362Z",
          "iopub.execute_input": "2024-06-03T12:54:19.214619Z",
          "iopub.status.idle": "2024-06-03T12:54:19.227217Z",
          "shell.execute_reply.started": "2024-06-03T12:54:19.214581Z",
          "shell.execute_reply": "2024-06-03T12:54:19.22559Z"
        },
        "trusted": true,
        "id": "-EDTSM0lLanQ"
      },
      "execution_count": null,
      "outputs": []
    },
    {
      "cell_type": "markdown",
      "source": [
        "<p style=\"padding:10px;background-color:#B4F8C8;margin:0;color:#000C66;font-family:sans serif;font-size:240%;text-align:center; overflow:hidden; font-weight:500; font-style:italic\"><a id='2'></a>2. Which region of the world wastes the most food ? </p>\n",
        "\n",
        "<p style=\"text-align:center; \"></p>"
      ],
      "metadata": {
        "id": "1kiz1IJfLanR"
      }
    },
    {
      "cell_type": "code",
      "source": [
        "results = {}\n",
        "columns_to_sum = ('Household estimate (tonnes/year)', 'Retail estimate (tonnes/year)',\n",
        "                      'Food service estimate (tonnes/year)')\n",
        "\n",
        "for column in columns_to_sum:\n",
        "    df_region = pd.DataFrame(df.groupby('Region')[column].sum().sort_values())\n",
        "    results[column] = df_region\n",
        "\n",
        "#print(results)\n",
        "\n",
        "df_results = pd.concat(results.values(), axis=1)\n",
        "df_results"
      ],
      "metadata": {
        "execution": {
          "iopub.status.busy": "2024-06-03T12:54:19.229401Z",
          "iopub.execute_input": "2024-06-03T12:54:19.230292Z",
          "iopub.status.idle": "2024-06-03T12:54:19.258678Z",
          "shell.execute_reply.started": "2024-06-03T12:54:19.230251Z",
          "shell.execute_reply": "2024-06-03T12:54:19.256648Z"
        },
        "trusted": true,
        "id": "n5aW3q31LanS"
      },
      "execution_count": null,
      "outputs": []
    },
    {
      "cell_type": "code",
      "source": [
        "plt.figure(figsize=(12, 8),dpi=200)\n",
        "df_results.plot.bar(cmap = 'Paired')\n",
        "plt.xlabel('Region')\n",
        "plt.ylabel('Estimate (tonnes/year)')\n",
        "plt.title('Estimates by Region')\n",
        "plt.xticks(rotation=30, size= 7, fontfamily='monospace',color='navy', rotation_mode='anchor', ha='right')\n",
        "plt.yticks(size= 7, fontfamily='monospace',color='navy',)\n",
        "plt.legend(loc=\"upper left\", prop={'size': 7})\n",
        "plt.title('Estimated food waste by world region', size=12, color='navy')\n",
        "plt.show();"
      ],
      "metadata": {
        "execution": {
          "iopub.status.busy": "2024-06-03T12:54:19.260684Z",
          "iopub.execute_input": "2024-06-03T12:54:19.26113Z",
          "iopub.status.idle": "2024-06-03T12:54:19.87344Z",
          "shell.execute_reply.started": "2024-06-03T12:54:19.261093Z",
          "shell.execute_reply": "2024-06-03T12:54:19.872121Z"
        },
        "trusted": true,
        "id": "UirL9-33LanS"
      },
      "execution_count": null,
      "outputs": []
    },
    {
      "cell_type": "code",
      "source": [
        "def sum_by_region(df):\n",
        "    results = {}\n",
        "    columns_to_sum = ['Household estimate (tonnes/year)', 'Retail estimate (tonnes/year)',\n",
        "                      'Food service estimate (tonnes/year)']\n",
        "\n",
        "    grouped = df.groupby('Region')\n",
        "\n",
        "    for column in columns_to_sum:\n",
        "        results[column] = grouped[column].sum()\n",
        "\n",
        "    df_results = pd.DataFrame(results)\n",
        "    df_results = df_results.sort_values(by= ['Household estimate (tonnes/year)', 'Retail estimate (tonnes/year)',\n",
        "                      'Food service estimate (tonnes/year)'])\n",
        "    df_results = df_results.reset_index()\n",
        "    return df_results\n",
        "\n",
        "df_region = pd.DataFrame(sum_by_region(df))\n",
        "# print(df_region)"
      ],
      "metadata": {
        "execution": {
          "iopub.status.busy": "2024-06-03T12:54:19.875049Z",
          "iopub.execute_input": "2024-06-03T12:54:19.875694Z",
          "iopub.status.idle": "2024-06-03T12:54:19.89488Z",
          "shell.execute_reply.started": "2024-06-03T12:54:19.875658Z",
          "shell.execute_reply": "2024-06-03T12:54:19.89323Z"
        },
        "trusted": true,
        "id": "ZiXohXbtLanS"
      },
      "execution_count": null,
      "outputs": []
    },
    {
      "cell_type": "markdown",
      "source": [
        "<p style=\"padding:10px;background-color:#ECF87F;margin:0;color:#000C66;font-family:sans serif;font-size:180%;text-align:left; overflow:hidden; font-weight:500; font-style:italic\"><a id='2.1'></a>2.1 Focus on two region of the world ? </p>\n",
        "\n",
        "<p style=\"text-align:left; \"></p>"
      ],
      "metadata": {
        "id": "VfpBvvplLanT"
      }
    },
    {
      "cell_type": "markdown",
      "source": [
        "I have chosen to focus my analysis on two regions: <b>Eastern Asia and Northern America, as the barplot shows that these regions post rather surprising results.</b>\n",
        "- Indeed, Eastern Asia shows equality between the Household estimates and Food service estimates bars.\n",
        "- Northern America has the highest Food service estimates bar in the world."
      ],
      "metadata": {
        "id": "yY4J6y4vLanT"
      }
    },
    {
      "cell_type": "code",
      "source": [
        "eastern_asia = pd.DataFrame(df[df['Region'] == 'Eastern Asia']).set_index('Country')\n",
        "\n",
        "eastern_asia[['Household estimate (tonnes/year)', 'Retail estimate (tonnes/year)', 'Food service estimate (tonnes/year)']].plot.bar(cmap = 'Paired')\n",
        "plt.xlabel('Countries in Eastern Asia')\n",
        "plt.ylabel('Estimate (tonnes/year)')\n",
        "plt.xticks(rotation=30, size= 9, fontfamily='monospace',color='navy', rotation_mode='anchor', ha='right')\n",
        "plt.yticks(size= 7, fontfamily='monospace',color='navy',)\n",
        "plt.legend(loc=\"upper right\", prop={'size': 7})\n",
        "plt.title('Estimates in Eastern Asia', size=12, color='navy')\n",
        "\n",
        "comment = \"\"\"\n",
        "\"More dishes than guests, a tradition in China\".\n",
        "\n",
        "Studies dating back to 2014 show that large quantities of food are still\n",
        "thrown away, especially in restaurants, where an estimated 19-30% of food\n",
        "is wasted. When it comes to meals eaten at home, wastage is lower, with only\n",
        "7% of food ending up in the garbage can.\n",
        "\n",
        "But on a national scale, these losses are highly problematic: according to\n",
        "a study carried out by China Agricultural University, the amount of protein\n",
        "thrown away would feed the equivalent of 260 million people!\n",
        "\n",
        "In China, it is traditional to order as many - if not more - dishes as there\n",
        "are guests, in order to make a good impression.\n",
        "\n",
        "In Chinese culture, leaving food on your plate is a sign of politeness.\n",
        "It shows that the person inviting - or the one who cooked - had planned\n",
        "enough food and that the guests did not lack anything. If the Chinese\n",
        "authorities want to reduce food waste, it will require a change in mentality,\n",
        "to make citizens accept that ordering less food won't make them \"lose face\".\n",
        "\n",
        "For example, the Chinese government is now encouraging restaurants to serve\n",
        "one less meal than the number of guests around a table.\n",
        "\"\"\"\n",
        "plt.annotate(comment, xy=(1.1, 0.5), xycoords='axes fraction', fontsize=9, va='center', ha='left')\n",
        "plt.show();"
      ],
      "metadata": {
        "execution": {
          "iopub.status.busy": "2024-06-03T12:54:19.89683Z",
          "iopub.execute_input": "2024-06-03T12:54:19.897342Z"
        },
        "trusted": true,
        "id": "R6DBxI9-LanU"
      },
      "execution_count": null,
      "outputs": []
    },
    {
      "cell_type": "code",
      "source": [
        "northern_america = pd.DataFrame(df[df['Region'] == 'Northern America']).set_index('Country')\n",
        "\n",
        "northern_america[['Household estimate (tonnes/year)', 'Retail estimate (tonnes/year)', 'Food service estimate (tonnes/year)']].plot.bar(cmap = 'Paired')\n",
        "plt.xlabel('Countries in Northern America')\n",
        "plt.ylabel('Estimate (tonnes/year)')\n",
        "plt.xticks(rotation=30, size= 9, fontfamily='monospace',color='navy', rotation_mode='anchor', ha='right')\n",
        "plt.yticks(size= 7, fontfamily='monospace',color='navy',)\n",
        "plt.legend(loc=\"upper left\", prop={'size': 7})\n",
        "plt.title('Estimates in Northern America', size=12, color='navy')\n",
        "\n",
        "\n",
        "comment = \"\"\"\n",
        "Americans waste nearly 150,000 tons of food a day, according to a study published Wednesday,\n",
        "April 18 in the journal Plos One.\n",
        "\n",
        "This food waste primarily concerns the healthiest products, with fruit, vegetables and dairy\n",
        "products taking up a large share of the trash.\n",
        "\n",
        "According to the study, there is only one solution to this immense food waste: raise consumer\n",
        "awareness. Consumers need to be made aware of the waste that can be generated by a balanced diet,\n",
        "and taught how to store purchased foodstuffs - particularly fresh produce - properly, and how to\n",
        "prepare them better so that less is thrown away.\n",
        "\"\"\"\n",
        "plt.annotate(comment, xy=(1.1, 0.5), xycoords='axes fraction', fontsize=9, va='center', ha='left')\n",
        "\n",
        "plt.show();"
      ],
      "metadata": {
        "execution": {
          "iopub.status.busy": "2024-06-03T12:54:20.45072Z",
          "iopub.execute_input": "2024-06-03T12:54:20.451191Z",
          "iopub.status.idle": "2024-06-03T12:54:20.945596Z",
          "shell.execute_reply.started": "2024-06-03T12:54:20.451155Z",
          "shell.execute_reply": "2024-06-03T12:54:20.943897Z"
        },
        "trusted": true,
        "id": "XHOMYxXHLanU"
      },
      "execution_count": null,
      "outputs": []
    },
    {
      "cell_type": "markdown",
      "source": [
        "### Volume of food thrown away by catering services by country 2021\n",
        "\n",
        "This statistic presents, by country, the volume of food waste produced by food services in 2021. At that date, China is responsible for the largest volume of food thrown away by food services, with more than 65 million tonnes of food waste per year. China is followed by the United States, with 21 million tonnes per year. The two giants are well ahead of the rest of the world, since in third place we find Malaysia, whose restaurant chains throw away 3 million tonnes of food a year, a volume 22 times less than that of China and 7 times less than that of the United States. French restaurants throw away almost 2 million tonnes of food a year."
      ],
      "metadata": {
        "id": "HAiewImhLanV"
      }
    },
    {
      "cell_type": "markdown",
      "source": [
        "<p style=\"padding:10px;background-color:#B4F8C8;margin:0;color:#000C66;font-family:sans serif;font-size:240%;text-align:center; overflow:hidden; font-weight:500; font-style:italic\"><a id='3'></a>3. Presentation of the 10 most responsible countries VS the 10 countries that waste the most food by Kg/capita/year </p>\n",
        "\n",
        "<p style=\"text-align:center; \"></p>"
      ],
      "metadata": {
        "id": "qFhNFrBpLanV"
      }
    },
    {
      "cell_type": "code",
      "source": [
        "most_responsible_countries = df.nsmallest(10, 'combined figures (kg/capita/year)')\n",
        "countries_waste_most_food = df.nlargest(10, 'combined figures (kg/capita/year)')\n",
        "\n",
        "top_n=3\n",
        "\n",
        "sns.set_style('white')\n",
        "fig = plt.figure(figsize =(10,8))\n",
        "g = gs.GridSpec(ncols = 1, nrows = 2, figure = fig)\n",
        "plt.suptitle(\"The 10 responsible countries VS the 10 countries that waste the most food \", fontfamily='monospace',color='navy', size=16, y=0.93)\n",
        "\n",
        "ax1 = plt.subplot(g[0,0])\n",
        "\n",
        "top_10 = countries_waste_most_food\n",
        "bottom_10 = most_responsible_countries.sort_values(ascending=False, by='combined figures (kg/capita/year)')\n",
        "\n",
        "ax1 = sns.barplot(data = top_10, x = top_10['combined figures (kg/capita/year)'],y = top_10['Country'], color = '#FC2E20' , alpha=0.8)\n",
        "for i in ax1.containers:\n",
        "    ax1.bar_label(i,)\n",
        "ax1.xaxis.set_visible(False)\n",
        "\n",
        "for i in range(top_n, len(most_responsible_countries)):\n",
        "    ax1.get_children()[i].set_color('#FDB750')\n",
        "\n",
        "plt.ylabel('The least responsible countries for food waste', fontfamily ='monospace',loc ='top',color ='orange', size = 8)\n",
        "\n",
        "ax2 = plt.subplot(g[1,0], sharex = ax1)\n",
        "\n",
        "ax2 = sns.barplot(data = bottom_10, x = bottom_10['combined figures (kg/capita/year)'],y = bottom_10['Country'], color = '#0048A4', alpha=0.97)\n",
        "\n",
        "for i in ax2.containers:\n",
        "    ax2.bar_label(i,)\n",
        "\n",
        "for i in range(0, len(most_responsible_countries)-top_n):\n",
        "    ax2.get_children()[i].set_color('#68A4F1')\n",
        "\n",
        "for s in ['left','right','top','bottom']:\n",
        "    ax1.spines[s].set_visible(False)\n",
        "    ax2.spines[s].set_visible(False)\n",
        "\n",
        "ax2.set_xticks((0,30,60,90,120,140,170,200,230,260))\n",
        "ax2.set_xticklabels((0,30,60,90,120,140,170,200,230,260), fontfamily='monospace',color='navy', size=8)\n",
        "\n",
        "plt.xlabel('Combined figures (kg/capita/year)', fontfamily ='monospace',color ='black', size = 10)\n",
        "\n",
        "plt.ylabel('The most responsible countries ', fontfamily ='monospace',loc ='top',color ='#0048A4', size = 8)\n",
        "\n",
        "plt.show();"
      ],
      "metadata": {
        "execution": {
          "iopub.status.busy": "2024-06-03T12:54:20.947725Z",
          "iopub.execute_input": "2024-06-03T12:54:20.949219Z",
          "iopub.status.idle": "2024-06-03T12:54:21.847403Z",
          "shell.execute_reply.started": "2024-06-03T12:54:20.949136Z",
          "shell.execute_reply": "2024-06-03T12:54:21.845887Z"
        },
        "trusted": true,
        "id": "sf-QSefsLanV"
      },
      "execution_count": null,
      "outputs": []
    },
    {
      "cell_type": "markdown",
      "source": [
        "According to the results, Malaysia, Nigeria and Rwanda are the worst performers when it comes to food waste in kg per capita over a year. However, as the data are not really reliable, this breakdown is probably wrong.\n",
        "\n",
        "In reality :\n",
        "North America is characterized by a high level of waste in kilos per capita. The United States leads the way, with no less than 415 kilos per inhabitant, for a total of 126 million tonnes of food wasted every year. Canada adds up to a total of 11.2 million tonnes each year, for an average of 303 kilos per inhabitant. Mexico, although less plagued by per capita waste, with an average of 155 kilos per inhabitant, wastes an average of 20 million tonnes per year.\n",
        "\n",
        "Europe has a complex context, as not all countries offer up-to-date or accurate figures. Comprising many countries, it represents 88 million tonnes of food waste.\n",
        "\n",
        "Finally, Asia is a zone characterized by considerable food waste, but low per capita volumes. China, for example, wastes 61 million tonnes every year, but at a rate of only 44 kilos per capita.\n",
        "\n",
        "In Oceania, we find Australia, which wastes a high volume per capita (298 kilos per head), but wastes a total of 7.3 million tonnes due to its small population."
      ],
      "metadata": {
        "id": "Vppyr9WWLanV"
      }
    },
    {
      "cell_type": "code",
      "source": [
        "def plot_top_and_bottom(df, column, n=10, xlabel=None, ylabel=None, title=None, xtick_rotation=None):\n",
        "    # Select the first 10 countries with the lowest values for the given column\n",
        "    smallest = df.nsmallest(n, column).set_index('Country')\n",
        "\n",
        "    # Select the top 10 countries with the highest values for the given column\n",
        "    largest = df.nlargest(n, column).set_index('Country')\n",
        "\n",
        "    # Draw the barplots\n",
        "    fig, axes = plt.subplots(1, 2, figsize=(10, 6))\n",
        "\n",
        "    smallest[column].plot.bar(ax=axes[0], color='blue')\n",
        "    axes[0].set_title(f'Top {n} Countries with Lowest {column}', size=9, color ='blue')\n",
        "    axes[0].set_ylabel(ylabel if ylabel else column)\n",
        "    axes[0].set_xlabel(xlabel if xlabel else 'Country')\n",
        "    axes[0].tick_params(axis='x', rotation=xtick_rotation, labelsize=9, labelcolor='navy')\n",
        "    axes[0].tick_params(axis='y', labelsize=7, labelcolor='navy')\n",
        "    axes[0].set_xticklabels(smallest.index, rotation=xtick_rotation, ha='right', fontsize=7, color='navy')\n",
        "    axes[0].legend(loc=\"upper left\", prop={'size': 7})\n",
        "\n",
        "    largest[column].plot.bar(ax=axes[1], color='orange')\n",
        "    axes[1].set_title(f'Top {n} Countries with Highest {column}', size=9, color ='orange')\n",
        "    axes[1].set_ylabel(ylabel if ylabel else column)\n",
        "    axes[1].set_xlabel(xlabel if xlabel else 'Country')\n",
        "    axes[1].tick_params(axis='x', rotation=xtick_rotation, labelsize=9, labelcolor='navy')\n",
        "    axes[1].tick_params(axis='y', labelsize=7, labelcolor='navy')\n",
        "    axes[1].set_xticklabels(largest.index, rotation=xtick_rotation, ha='right', fontsize=7, color='navy')\n",
        "    axes[1].legend(loc=\"upper right\", prop={'size': 7})\n",
        "\n",
        "    fig.suptitle(title if title else f'Estimates', size=12, color='navy')\n",
        "\n",
        "    plt.tight_layout()\n",
        "    plt.show()\n",
        "\n",
        "plot_top_and_bottom(df, 'Household estimate (tonnes/year)', xlabel='Countries', ylabel='Household Estimate (tonnes/year)',\n",
        "                    title='Household Estimates', xtick_rotation=30)\n",
        "\n",
        "plot_top_and_bottom(df, 'Retail estimate (tonnes/year)', xlabel='Countries', ylabel='Retail Estimate (tonnes/year)',\n",
        "                    title='Retail Estimates', xtick_rotation=30)\n",
        "\n",
        "plot_top_and_bottom(df, 'Food service estimate (tonnes/year)', xlabel='Countries', ylabel='Food service Estimate (tonnes/year)',\n",
        "                    title='Food service Estimates', xtick_rotation=30)"
      ],
      "metadata": {
        "execution": {
          "iopub.status.busy": "2024-06-03T12:54:21.849093Z",
          "iopub.execute_input": "2024-06-03T12:54:21.849464Z",
          "iopub.status.idle": "2024-06-03T12:54:25.088553Z",
          "shell.execute_reply.started": "2024-06-03T12:54:21.849434Z",
          "shell.execute_reply": "2024-06-03T12:54:25.086676Z"
        },
        "trusted": true,
        "id": "6UAYhkjrLanW"
      },
      "execution_count": null,
      "outputs": []
    },
    {
      "cell_type": "markdown",
      "source": [
        "#### These graphs show something very logical. The larger and more populous the country, the greater the amount of food waste.\n",
        "\n",
        "\n",
        "#### The reverse is also true: the blue bars represent the food waste of the countries with the smallest surface areas in the world, and which produce the least waste. This is because they are less populated."
      ],
      "metadata": {
        "id": "ROAL7C4hLanW"
      }
    }
  ]
}